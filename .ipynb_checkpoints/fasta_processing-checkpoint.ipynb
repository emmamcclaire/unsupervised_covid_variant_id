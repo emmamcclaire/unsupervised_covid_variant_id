{
 "cells": [
  {
   "cell_type": "code",
   "execution_count": 16,
   "metadata": {},
   "outputs": [],
   "source": [
    "from Bio import SeqIO\n",
    "import pandas as pd"
   ]
  },
  {
   "cell_type": "code",
   "execution_count": 41,
   "metadata": {},
   "outputs": [],
   "source": [
    "def getKmers(sequence, size=6):\n",
    "    return [sequence[x:x+size].lower() for x in range(len(sequence) - size + 1)]\n",
    "\n",
    "def get_hex_df(file_name, virus): \n",
    "    fasta_sequences = SeqIO.parse(open(file_name),'fasta')\n",
    "\n",
    "    names = []\n",
    "    sequences = []\n",
    "\n",
    "    for fasta in fasta_sequences:\n",
    "        name, sequence = fasta.id, str(fasta.seq)\n",
    "        names.append(name)\n",
    "        sequences.append(sequence)\n",
    "        \n",
    "    sequences_df = pd.DataFrame()\n",
    "    \n",
    "    sequences_df['names'] = names\n",
    "    sequences_df['sequences'] = sequences\n",
    "    sequences_df['virus'] = virus\n",
    "    \n",
    "    sequences_df['hexamers'] = sequences_df['sequences'].apply(lambda x: getKmers(x))\n",
    "    \n",
    "    hex_list = list(sequences_df['hexamers'])\n",
    "    for item in range(len(hex_list)):\n",
    "        hex_list[item] = ' '.join(hex_list[item])\n",
    "    \n",
    "    sequences_df['hexamers'] = hex_list\n",
    "    \n",
    "    return sequences_df"
   ]
  },
  {
   "cell_type": "markdown",
   "metadata": {},
   "source": [
    "## Proof-of-Concept: Supervised Learning with FluA Genomes"
   ]
  },
  {
   "cell_type": "code",
   "execution_count": 42,
   "metadata": {},
   "outputs": [],
   "source": [
    "h1n1 = get_hex_df('flu/H1N1.fa', 'H1N1')"
   ]
  },
  {
   "cell_type": "code",
   "execution_count": 43,
   "metadata": {},
   "outputs": [
    {
     "data": {
      "text/html": [
       "<div>\n",
       "<style scoped>\n",
       "    .dataframe tbody tr th:only-of-type {\n",
       "        vertical-align: middle;\n",
       "    }\n",
       "\n",
       "    .dataframe tbody tr th {\n",
       "        vertical-align: top;\n",
       "    }\n",
       "\n",
       "    .dataframe thead th {\n",
       "        text-align: right;\n",
       "    }\n",
       "</style>\n",
       "<table border=\"1\" class=\"dataframe\">\n",
       "  <thead>\n",
       "    <tr style=\"text-align: right;\">\n",
       "      <th></th>\n",
       "      <th>names</th>\n",
       "      <th>sequences</th>\n",
       "      <th>virus</th>\n",
       "      <th>hexamers</th>\n",
       "    </tr>\n",
       "  </thead>\n",
       "  <tbody>\n",
       "    <tr>\n",
       "      <th>0</th>\n",
       "      <td>CY083910</td>\n",
       "      <td>GGAAAACAAAAGCAACAAAAATGAAGGCAATACTAGTAGTTCTGCT...</td>\n",
       "      <td>H1N1</td>\n",
       "      <td>ggaaaa gaaaac aaaaca aaacaa aacaaa acaaaa caaa...</td>\n",
       "    </tr>\n",
       "    <tr>\n",
       "      <th>1</th>\n",
       "      <td>CY063606</td>\n",
       "      <td>AAAAGCAACAAAAATGAAGGCAATACTAGTAGTTCTGCTATATACA...</td>\n",
       "      <td>H1N1</td>\n",
       "      <td>aaaagc aaagca aagcaa agcaac gcaaca caacaa aaca...</td>\n",
       "    </tr>\n",
       "    <tr>\n",
       "      <th>2</th>\n",
       "      <td>CY083776</td>\n",
       "      <td>AAACAAAAGCAACAAAAATGAAGGCAATACTAGTAGTTCTGCTATA...</td>\n",
       "      <td>H1N1</td>\n",
       "      <td>aaacaa aacaaa acaaaa caaaag aaaagc aaagca aagc...</td>\n",
       "    </tr>\n",
       "    <tr>\n",
       "      <th>3</th>\n",
       "      <td>CY073725</td>\n",
       "      <td>AAAAGCAACAAAAATGAAGGCAATACTAGTAGTTCTGCTATATACA...</td>\n",
       "      <td>H1N1</td>\n",
       "      <td>aaaagc aaagca aagcaa agcaac gcaaca caacaa aaca...</td>\n",
       "    </tr>\n",
       "    <tr>\n",
       "      <th>4</th>\n",
       "      <td>CY062691</td>\n",
       "      <td>AAAAGCAACAAAAATGAAGGCAATACTAGTAGTTCTGCTATATACA...</td>\n",
       "      <td>H1N1</td>\n",
       "      <td>aaaagc aaagca aagcaa agcaac gcaaca caacaa aaca...</td>\n",
       "    </tr>\n",
       "  </tbody>\n",
       "</table>\n",
       "</div>"
      ],
      "text/plain": [
       "      names                                          sequences virus  \\\n",
       "0  CY083910  GGAAAACAAAAGCAACAAAAATGAAGGCAATACTAGTAGTTCTGCT...  H1N1   \n",
       "1  CY063606  AAAAGCAACAAAAATGAAGGCAATACTAGTAGTTCTGCTATATACA...  H1N1   \n",
       "2  CY083776  AAACAAAAGCAACAAAAATGAAGGCAATACTAGTAGTTCTGCTATA...  H1N1   \n",
       "3  CY073725  AAAAGCAACAAAAATGAAGGCAATACTAGTAGTTCTGCTATATACA...  H1N1   \n",
       "4  CY062691  AAAAGCAACAAAAATGAAGGCAATACTAGTAGTTCTGCTATATACA...  H1N1   \n",
       "\n",
       "                                            hexamers  \n",
       "0  ggaaaa gaaaac aaaaca aaacaa aacaaa acaaaa caaa...  \n",
       "1  aaaagc aaagca aagcaa agcaac gcaaca caacaa aaca...  \n",
       "2  aaacaa aacaaa acaaaa caaaag aaaagc aaagca aagc...  \n",
       "3  aaaagc aaagca aagcaa agcaac gcaaca caacaa aaca...  \n",
       "4  aaaagc aaagca aagcaa agcaac gcaaca caacaa aaca...  "
      ]
     },
     "execution_count": 43,
     "metadata": {},
     "output_type": "execute_result"
    }
   ],
   "source": [
    "h1n1.head()"
   ]
  },
  {
   "cell_type": "code",
   "execution_count": 44,
   "metadata": {},
   "outputs": [],
   "source": [
    "h3n2 = get_hex_df('flu/H3N2.fa', 'H3N2')"
   ]
  },
  {
   "cell_type": "code",
   "execution_count": 45,
   "metadata": {},
   "outputs": [
    {
     "data": {
      "text/html": [
       "<div>\n",
       "<style scoped>\n",
       "    .dataframe tbody tr th:only-of-type {\n",
       "        vertical-align: middle;\n",
       "    }\n",
       "\n",
       "    .dataframe tbody tr th {\n",
       "        vertical-align: top;\n",
       "    }\n",
       "\n",
       "    .dataframe thead th {\n",
       "        text-align: right;\n",
       "    }\n",
       "</style>\n",
       "<table border=\"1\" class=\"dataframe\">\n",
       "  <thead>\n",
       "    <tr style=\"text-align: right;\">\n",
       "      <th></th>\n",
       "      <th>names</th>\n",
       "      <th>sequences</th>\n",
       "      <th>virus</th>\n",
       "      <th>hexamers</th>\n",
       "    </tr>\n",
       "  </thead>\n",
       "  <tbody>\n",
       "    <tr>\n",
       "      <th>0</th>\n",
       "      <td>CY113229</td>\n",
       "      <td>TAATTCTATTAACCATGAAGACTATCATTGCTTTGAGCTACATTTT...</td>\n",
       "      <td>H3N2</td>\n",
       "      <td>taattc aattct attcta ttctat tctatt ctatta tatt...</td>\n",
       "    </tr>\n",
       "    <tr>\n",
       "      <th>1</th>\n",
       "      <td>CY112460</td>\n",
       "      <td>TAATTCTATTAACCATGAAGACTATCATTGCTTTGAGCTACATTTT...</td>\n",
       "      <td>H3N2</td>\n",
       "      <td>taattc aattct attcta ttctat tctatt ctatta tatt...</td>\n",
       "    </tr>\n",
       "    <tr>\n",
       "      <th>2</th>\n",
       "      <td>CY114553</td>\n",
       "      <td>GGGGATAATTCTATTAACCATGAAGACTATCATTGCTTTGAGCTAC...</td>\n",
       "      <td>H3N2</td>\n",
       "      <td>ggggat gggata ggataa gataat ataatt taattc aatt...</td>\n",
       "    </tr>\n",
       "    <tr>\n",
       "      <th>3</th>\n",
       "      <td>KY694983</td>\n",
       "      <td>ATGAAGACTATCATTGCTTTGAGCTACATTCTATGTCTGGTTTTCG...</td>\n",
       "      <td>H3N2</td>\n",
       "      <td>atgaag tgaaga gaagac aagact agacta gactat acta...</td>\n",
       "    </tr>\n",
       "    <tr>\n",
       "      <th>4</th>\n",
       "      <td>MN299965</td>\n",
       "      <td>ATGAAGACTATCATTGCTTTGAGCTACATTCTATGTCTGGTTTTCG...</td>\n",
       "      <td>H3N2</td>\n",
       "      <td>atgaag tgaaga gaagac aagact agacta gactat acta...</td>\n",
       "    </tr>\n",
       "  </tbody>\n",
       "</table>\n",
       "</div>"
      ],
      "text/plain": [
       "      names                                          sequences virus  \\\n",
       "0  CY113229  TAATTCTATTAACCATGAAGACTATCATTGCTTTGAGCTACATTTT...  H3N2   \n",
       "1  CY112460  TAATTCTATTAACCATGAAGACTATCATTGCTTTGAGCTACATTTT...  H3N2   \n",
       "2  CY114553  GGGGATAATTCTATTAACCATGAAGACTATCATTGCTTTGAGCTAC...  H3N2   \n",
       "3  KY694983  ATGAAGACTATCATTGCTTTGAGCTACATTCTATGTCTGGTTTTCG...  H3N2   \n",
       "4  MN299965  ATGAAGACTATCATTGCTTTGAGCTACATTCTATGTCTGGTTTTCG...  H3N2   \n",
       "\n",
       "                                            hexamers  \n",
       "0  taattc aattct attcta ttctat tctatt ctatta tatt...  \n",
       "1  taattc aattct attcta ttctat tctatt ctatta tatt...  \n",
       "2  ggggat gggata ggataa gataat ataatt taattc aatt...  \n",
       "3  atgaag tgaaga gaagac aagact agacta gactat acta...  \n",
       "4  atgaag tgaaga gaagac aagact agacta gactat acta...  "
      ]
     },
     "execution_count": 45,
     "metadata": {},
     "output_type": "execute_result"
    }
   ],
   "source": [
    "h3n2.head()"
   ]
  },
  {
   "cell_type": "code",
   "execution_count": 46,
   "metadata": {},
   "outputs": [],
   "source": [
    "combined = h1n1.append(h3n2)"
   ]
  },
  {
   "cell_type": "code",
   "execution_count": 50,
   "metadata": {},
   "outputs": [],
   "source": [
    "X = combined['hexamers']\n",
    "y = combined['virus']"
   ]
  },
  {
   "cell_type": "code",
   "execution_count": 53,
   "metadata": {},
   "outputs": [],
   "source": [
    "from sklearn.feature_extraction.text import CountVectorizer\n",
    "cv = CountVectorizer(ngram_range=(4,4))\n",
    "X_vec = cv.fit_transform(X)"
   ]
  },
  {
   "cell_type": "code",
   "execution_count": 54,
   "metadata": {},
   "outputs": [],
   "source": [
    "from sklearn.model_selection import train_test_split\n",
    "X_train, X_test, y_train, y_test = train_test_split(X_vec, \n",
    "                                                    y, \n",
    "                                                    test_size = 0.20, \n",
    "                                                    random_state=26)"
   ]
  },
  {
   "cell_type": "code",
   "execution_count": 56,
   "metadata": {},
   "outputs": [
    {
     "data": {
      "text/plain": [
       "MultinomialNB(alpha=0.1)"
      ]
     },
     "execution_count": 56,
     "metadata": {},
     "output_type": "execute_result"
    }
   ],
   "source": [
    "from sklearn.naive_bayes import MultinomialNB\n",
    "classifier = MultinomialNB(alpha=0.1)\n",
    "classifier.fit(X_train, y_train)"
   ]
  },
  {
   "cell_type": "code",
   "execution_count": 57,
   "metadata": {},
   "outputs": [],
   "source": [
    "y_pred = classifier.predict(X_test)"
   ]
  },
  {
   "cell_type": "code",
   "execution_count": 58,
   "metadata": {},
   "outputs": [],
   "source": [
    "import sklearn.metrics as metrics"
   ]
  },
  {
   "cell_type": "code",
   "execution_count": 60,
   "metadata": {},
   "outputs": [
    {
     "name": "stdout",
     "output_type": "stream",
     "text": [
      "              precision    recall  f1-score   support\n",
      "\n",
      "        H1N1       1.00      1.00      1.00       556\n",
      "        H3N2       1.00      1.00      1.00       283\n",
      "\n",
      "    accuracy                           1.00       839\n",
      "   macro avg       1.00      1.00      1.00       839\n",
      "weighted avg       1.00      1.00      1.00       839\n",
      "\n"
     ]
    }
   ],
   "source": [
    "print(metrics.classification_report(y_pred, y_test))"
   ]
  },
  {
   "cell_type": "code",
   "execution_count": null,
   "metadata": {},
   "outputs": [],
   "source": []
  }
 ],
 "metadata": {
  "kernelspec": {
   "display_name": "Python 3",
   "language": "python",
   "name": "python3"
  },
  "language_info": {
   "codemirror_mode": {
    "name": "ipython",
    "version": 3
   },
   "file_extension": ".py",
   "mimetype": "text/x-python",
   "name": "python",
   "nbconvert_exporter": "python",
   "pygments_lexer": "ipython3",
   "version": "3.8.5"
  }
 },
 "nbformat": 4,
 "nbformat_minor": 4
}
