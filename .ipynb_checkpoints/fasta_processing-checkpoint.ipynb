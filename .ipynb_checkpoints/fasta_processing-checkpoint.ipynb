{
 "cells": [
  {
   "cell_type": "code",
   "execution_count": 4,
   "metadata": {
    "executionInfo": {
     "elapsed": 371,
     "status": "ok",
     "timestamp": 1613449201921,
     "user": {
      "displayName": "Emma-Claire McCarthy",
      "photoUrl": "",
      "userId": "13558854116952174414"
     },
     "user_tz": 480
    },
    "id": "L2Nsa17hA6YV"
   },
   "outputs": [],
   "source": [
    "from Bio import SeqIO\n",
    "import pandas as pd"
   ]
  },
  {
   "cell_type": "code",
   "execution_count": 5,
   "metadata": {
    "executionInfo": {
     "elapsed": 334,
     "status": "ok",
     "timestamp": 1613449205519,
     "user": {
      "displayName": "Emma-Claire McCarthy",
      "photoUrl": "",
      "userId": "13558854116952174414"
     },
     "user_tz": 480
    },
    "id": "npd1rLhMBm2Y"
   },
   "outputs": [],
   "source": [
    "def getKmers(sequence, size=6):\n",
    "    return [sequence[x:x+size].lower() for x in range(len(sequence) - size + 1)]\n",
    "\n",
    "def get_seq_df(file_name): \n",
    "    \n",
    "    fasta_sequences = SeqIO.parse(open(file_name),'fasta')\n",
    "\n",
    "    names = []\n",
    "    sequences = []\n",
    "\n",
    "    for fasta in fasta_sequences:\n",
    "        name, sequence = fasta.id, str(fasta.seq)\n",
    "        names.append(name)\n",
    "        sequences.append(sequence)\n",
    "        \n",
    "    sequences_df = pd.DataFrame()\n",
    "    \n",
    "    sequences_df['names'] = names\n",
    "    sequences_df['sequences'] = sequences\n",
    "    \n",
    "    return sequences_df\n",
    "\n",
    "def get_hexamers(df, size = 6):\n",
    "    \n",
    "    sequences_df = df.copy()\n",
    "    \n",
    "    sequences_df['hexamers'] = sequences_df['sequences'].apply(lambda x: getKmers(x, size = size))\n",
    "    \n",
    "    sequences_df['hex_words'] = sequences_df['hexamers'].apply(lambda x: ' '.join(x))\n",
    "        \n",
    "    return sequences_df"
   ]
  },
  {
   "cell_type": "code",
   "execution_count": 57,
   "metadata": {
    "executionInfo": {
     "elapsed": 14600,
     "status": "ok",
     "timestamp": 1613450849760,
     "user": {
      "displayName": "Emma-Claire McCarthy",
      "photoUrl": "",
      "userId": "13558854116952174414"
     },
     "user_tz": 480
    },
    "id": "lPTRRFZvB0N1"
   },
   "outputs": [],
   "source": [
    "fasta = get_seq_df('sequences_coding_region.fasta')"
   ]
  },
  {
   "cell_type": "code",
   "execution_count": 59,
   "metadata": {
    "executionInfo": {
     "elapsed": 1439,
     "status": "ok",
     "timestamp": 1613450855388,
     "user": {
      "displayName": "Emma-Claire McCarthy",
      "photoUrl": "",
      "userId": "13558854116952174414"
     },
     "user_tz": 480
    },
    "id": "W4Flo5RMe0L3"
   },
   "outputs": [],
   "source": [
    "fasta['coding_region'] = fasta['names'].apply(lambda x: x.split(':')[1].split(',')[0])\n",
    "fasta['accession'] = fasta['names'].apply(lambda x: x.split(':')[0].replace('join(', ''))\n",
    "fasta['start_position'] = fasta['coding_region'].apply(lambda x: int(x.split('..')[0].replace('<', '')))\n",
    "fasta['stop_position'] = fasta['coding_region'].apply(lambda x: int(x.split('..')[1].replace('>', '')))"
   ]
  },
  {
   "cell_type": "code",
   "execution_count": 60,
   "metadata": {
    "executionInfo": {
     "elapsed": 629,
     "status": "ok",
     "timestamp": 1613450857312,
     "user": {
      "displayName": "Emma-Claire McCarthy",
      "photoUrl": "",
      "userId": "13558854116952174414"
     },
     "user_tz": 480
    },
    "id": "mED0gp1rlzz7"
   },
   "outputs": [],
   "source": [
    "# isolate just the N gene sequences by filtering by position\n",
    "ngene = fasta[(fasta.start_position > 28000) & (fasta.start_position < 29000)]"
   ]
  },
  {
   "cell_type": "code",
   "execution_count": 61,
   "metadata": {
    "colab": {
     "base_uri": "https://localhost:8080/"
    },
    "executionInfo": {
     "elapsed": 533,
     "status": "ok",
     "timestamp": 1613450859324,
     "user": {
      "displayName": "Emma-Claire McCarthy",
      "photoUrl": "",
      "userId": "13558854116952174414"
     },
     "user_tz": 480
    },
    "id": "sMspkfFqJmLY",
    "outputId": "4d299569-c241-467f-b401-0639eddbfc49"
   },
   "outputs": [
    {
     "data": {
      "text/plain": [
       "41536"
      ]
     },
     "execution_count": 61,
     "metadata": {
      "tags": []
     },
     "output_type": "execute_result"
    }
   ],
   "source": [
    "# total sequences\n",
    "len(ngene.accession.unique())"
   ]
  },
  {
   "cell_type": "code",
   "execution_count": 62,
   "metadata": {
    "executionInfo": {
     "elapsed": 14499,
     "status": "ok",
     "timestamp": 1613450910945,
     "user": {
      "displayName": "Emma-Claire McCarthy",
      "photoUrl": "",
      "userId": "13558854116952174414"
     },
     "user_tz": 480
    },
    "id": "zFop_ml1KpfM"
   },
   "outputs": [],
   "source": [
    "ngene = get_hexamers(ngene)"
   ]
  },
  {
   "cell_type": "code",
   "execution_count": 63,
   "metadata": {
    "executionInfo": {
     "elapsed": 22084,
     "status": "ok",
     "timestamp": 1613450946710,
     "user": {
      "displayName": "Emma-Claire McCarthy",
      "photoUrl": "",
      "userId": "13558854116952174414"
     },
     "user_tz": 480
    },
    "id": "ZPrNefRTKy0G"
   },
   "outputs": [],
   "source": [
    "ngene.to_csv('ngene.csv')"
   ]
  }
 ],
 "metadata": {
  "accelerator": "GPU",
  "colab": {
   "authorship_tag": "ABX9TyM0vd1QiHHwS+7hbAza3sea",
   "collapsed_sections": [],
   "machine_shape": "hm",
   "name": "fasta_processing.ipynb",
   "provenance": []
  },
  "kernelspec": {
   "display_name": "Python 3",
   "language": "python",
   "name": "python3"
  },
  "language_info": {
   "codemirror_mode": {
    "name": "ipython",
    "version": 3
   },
   "file_extension": ".py",
   "mimetype": "text/x-python",
   "name": "python",
   "nbconvert_exporter": "python",
   "pygments_lexer": "ipython3",
   "version": "3.8.5"
  }
 },
 "nbformat": 4,
 "nbformat_minor": 4
}
