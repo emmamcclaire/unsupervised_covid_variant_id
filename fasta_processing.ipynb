{
 "cells": [
  {
   "cell_type": "code",
   "execution_count": 2,
   "metadata": {},
   "outputs": [],
   "source": [
    "from Bio import SeqIO\n",
    "import pandas as pd"
   ]
  },
  {
   "cell_type": "code",
   "execution_count": 22,
   "metadata": {},
   "outputs": [],
   "source": [
    "def getKmers(sequence, size=6):\n",
    "    return [sequence[x:x+size].lower() for x in range(len(sequence) - size + 1)]\n",
    "\n",
    "def get_seq_df(file_name, virus): \n",
    "    \n",
    "    fasta_sequences = SeqIO.parse(open(file_name),'fasta')\n",
    "\n",
    "    names = []\n",
    "    sequences = []\n",
    "\n",
    "    for fasta in fasta_sequences:\n",
    "        name, sequence = fasta.id, str(fasta.seq)\n",
    "        names.append(name)\n",
    "        sequences.append(sequence)\n",
    "        \n",
    "    sequences_df = pd.DataFrame()\n",
    "    \n",
    "    sequences_df['names'] = names\n",
    "    sequences_df['sequences'] = sequences\n",
    "    sequences_df['virus'] = virus\n",
    "    \n",
    "    return sequences_df\n",
    "\n",
    "def get_hexamers(df, size = 6):\n",
    "    \n",
    "    sequences_df = df.copy()\n",
    "    \n",
    "    sequences_df['hexamers'] = sequences_df['sequences'].apply(lambda x: getKmers(x, size = size))\n",
    "    \n",
    "#     hex_list = list(sequences_df['hexamers'])\n",
    "#     for item in range(len(hex_list)):\n",
    "#         hex_list[item] = ' '.join(hex_list[item])\n",
    "    \n",
    "    sequences_df['hex_words'] = sequences_df['hexamers'].apply(lambda x: ' '.join(x))\n",
    "    \n",
    "    #sequences_df['hexamers'] = hex_list\n",
    "    \n",
    "    return sequences_df"
   ]
  },
  {
   "cell_type": "code",
   "execution_count": 4,
   "metadata": {},
   "outputs": [
    {
     "data": {
      "text/plain": [
       "array(['Severe acute respiratory syndrome-related coronavirus'],\n",
       "      dtype=object)"
      ]
     },
     "execution_count": 4,
     "metadata": {},
     "output_type": "execute_result"
    }
   ],
   "source": [
    "csv = pd.read_csv('data/sequences.csv')\n",
    "csv.Species.unique()"
   ]
  },
  {
   "cell_type": "code",
   "execution_count": 5,
   "metadata": {},
   "outputs": [],
   "source": [
    "fasta = get_seq_df('data/sequences.fasta', 'Severe acute respiratory syndrome-related coronavirus')"
   ]
  },
  {
   "cell_type": "code",
   "execution_count": 6,
   "metadata": {},
   "outputs": [
    {
     "data": {
      "text/plain": [
       "(43402, 3)"
      ]
     },
     "execution_count": 6,
     "metadata": {},
     "output_type": "execute_result"
    }
   ],
   "source": [
    "fasta.shape"
   ]
  }
 ],
 "metadata": {
  "kernelspec": {
   "display_name": "Python 3",
   "language": "python",
   "name": "python3"
  },
  "language_info": {
   "codemirror_mode": {
    "name": "ipython",
    "version": 3
   },
   "file_extension": ".py",
   "mimetype": "text/x-python",
   "name": "python",
   "nbconvert_exporter": "python",
   "pygments_lexer": "ipython3",
   "version": "3.8.5"
  }
 },
 "nbformat": 4,
 "nbformat_minor": 4
}
