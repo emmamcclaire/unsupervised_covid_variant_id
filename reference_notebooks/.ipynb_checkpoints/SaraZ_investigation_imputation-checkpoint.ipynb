{
 "cells": [
  {
   "cell_type": "markdown",
   "id": "connected-statement",
   "metadata": {},
   "source": [
    "# Raise your hand if you are not here:\n",
    "<img src=\"raisehand2.png\" style=\"width: 400px;\"/>"
   ]
  },
  {
   "cell_type": "markdown",
   "id": "solar-seven",
   "metadata": {},
   "source": [
    "### What we have for this investigation:\n",
    "- a couple concepts...\n",
    "- a couple graphs to visualize missing data...\n",
    "- three simple imputation examples...\n",
    "- testing the imputed datasets...\n",
    "- categorical feature..."
   ]
  },
  {
   "cell_type": "markdown",
   "id": "liable-national",
   "metadata": {},
   "source": [
    "### Assume you have invistigated into the reasons why values are missing and have decided what to do...\n",
    "### Univariate vs Multivariate imputation\n",
    "From lecture, we learned two missing value handling strategies \n",
    "1. dropping rows with missing values \n",
    "2. fill missing values with mean, median, etc <br>\n",
    "Strategy 2 is what we call a univariate imputation where you use the observed values from the feature to fill in the missing values. <br>\n",
    "**BUT... we could also use the entire set of features in the dataset to estimate the missing values in a feature!**"
   ]
  },
  {
   "cell_type": "markdown",
   "id": "educated-plymouth",
   "metadata": {},
   "source": [
    "### How does multivariate imputation work?\n",
    "For a feature with missing values, its observed values (as the output) is regressed on the other features (as the input) in the data, and then the regressor is used to predict the missing values. This is done for each feature with missing values in an iterative fashion. The results of the final round of imputation are returned. <br>\n",
    "1. Missing values are filled in randomly from observed values\n",
    "2. Apply regressor to impute feature one at a time\n",
    "3. Terminate iteration when the average imputed values converge\n",
    "\n",
    "<img src=\"mice_flow_chart.png\" style=\"width: 750px;\"/>"
   ]
  },
  {
   "cell_type": "markdown",
   "id": "stupid-issue",
   "metadata": {},
   "source": [
    "### Also just so you know, there are Single vs. Multiple Imputations:\n",
    "- If we were interested in understanding the uncertainty associated with the missing values, the dataset should be imputed multiple times and each set is used for separate analysis. \n",
    "> Imputing one value for a missing datum cannot be correct in general, because we don’t know what value to impute with certainty (if we did, it wouldn’t be missing). -- **Donald B. Rubin**\n",
    "- IterativeImputer only returns the result of a single imputation (because for preditive modeling, uncertainty is less of an interest). "
   ]
  },
  {
   "cell_type": "code",
   "execution_count": null,
   "id": "proud-haiti",
   "metadata": {},
   "outputs": [],
   "source": [
    "import numpy as np\n",
    "import pandas as pd\n",
    "from sklearn.datasets import load_iris\n",
    "\n",
    "%matplotlib inline"
   ]
  },
  {
   "cell_type": "markdown",
   "id": "wanted-first",
   "metadata": {},
   "source": [
    "### Loading the iris dataset from sklearn:"
   ]
  },
  {
   "cell_type": "code",
   "execution_count": null,
   "id": "liberal-usage",
   "metadata": {
    "scrolled": true
   },
   "outputs": [],
   "source": [
    "iris = load_iris() \n",
    "df = pd.DataFrame(data = np.c_[iris[\"data\"], iris[\"target\"]],\\\n",
    "                     columns = iris[\"feature_names\"] + [\"species\"])\n",
    "df.isna().sum()"
   ]
  },
  {
   "cell_type": "code",
   "execution_count": null,
   "id": "known-company",
   "metadata": {
    "scrolled": true
   },
   "outputs": [],
   "source": [
    "df.head()"
   ]
  },
  {
   "cell_type": "markdown",
   "id": "literary-lawrence",
   "metadata": {},
   "source": [
    "### Introducing missing values in sepal_length and petal_width:"
   ]
  },
  {
   "cell_type": "code",
   "execution_count": null,
   "id": "colonial-shade",
   "metadata": {},
   "outputs": [],
   "source": [
    "df_miss = df.copy()\n",
    "\n",
    "np.random.seed(11)\n",
    "mask = np.random.randint(0, 150, size = 15)\n",
    "mask2 = np.random.randint(0, 150, size = 10)\n",
    "\n",
    "df_miss[\"sepal length (cm)\"][mask] = np.nan\n",
    "df_miss[\"petal width (cm)\"][mask2] = np.nan\n",
    "df_miss.isna().sum()"
   ]
  },
  {
   "cell_type": "markdown",
   "id": "found-berkeley",
   "metadata": {},
   "source": [
    "### Visualizing missing values:"
   ]
  },
  {
   "cell_type": "code",
   "execution_count": null,
   "id": "strategic-stewart",
   "metadata": {},
   "outputs": [],
   "source": [
    "import missingno as msno"
   ]
  },
  {
   "cell_type": "code",
   "execution_count": null,
   "id": "according-handy",
   "metadata": {},
   "outputs": [],
   "source": [
    "#There is also msno.bar(df)\n",
    "msno.matrix(df_miss, figsize=(10, 6))"
   ]
  },
  {
   "cell_type": "code",
   "execution_count": null,
   "id": "european-extra",
   "metadata": {},
   "outputs": [],
   "source": [
    "#This shows the correlation between missing values of the two features\n",
    "msno.heatmap(df_miss, figsize=(5, 5))"
   ]
  },
  {
   "cell_type": "markdown",
   "id": "acute-tsunami",
   "metadata": {},
   "source": [
    "### Imputing missing values with IterativeImputer:"
   ]
  },
  {
   "cell_type": "code",
   "execution_count": null,
   "id": "illegal-reynolds",
   "metadata": {},
   "outputs": [],
   "source": [
    "from sklearn.experimental import enable_iterative_imputer\n",
    "from sklearn.impute import IterativeImputer"
   ]
  },
  {
   "cell_type": "code",
   "execution_count": null,
   "id": "attended-senior",
   "metadata": {},
   "outputs": [],
   "source": [
    "#default estimator/regressor is Baysian Ridge\n",
    "ii_imputer = IterativeImputer(max_iter=10, random_state=11)\n",
    "\n",
    "df_ii = df_miss.copy()\n",
    "df_ii.iloc[:, :] = ii_imputer.fit_transform(df_ii)"
   ]
  },
  {
   "cell_type": "code",
   "execution_count": null,
   "id": "norman-librarian",
   "metadata": {},
   "outputs": [],
   "source": [
    "df_ii.isna().sum()"
   ]
  },
  {
   "cell_type": "markdown",
   "id": "bearing-collective",
   "metadata": {},
   "source": [
    "### Imputing missing values with other variants of IterativeImputer:"
   ]
  },
  {
   "cell_type": "code",
   "execution_count": null,
   "id": "violent-friendly",
   "metadata": {},
   "outputs": [],
   "source": [
    "from sklearn.ensemble import RandomForestRegressor"
   ]
  },
  {
   "cell_type": "code",
   "execution_count": null,
   "id": "laden-mills",
   "metadata": {},
   "outputs": [],
   "source": [
    "rf = RandomForestRegressor(n_estimators=10, random_state=1)\n",
    "rf_imputer = IterativeImputer(estimator=rf, random_state=17)\n",
    "\n",
    "df_rf = df_miss.copy()\n",
    "df_rf.iloc[:, :] = rf_imputer.fit_transform(df_rf)\n",
    "df_rf.isna().sum()"
   ]
  },
  {
   "cell_type": "markdown",
   "id": "documentary-distinction",
   "metadata": {},
   "source": [
    "### Imputing missing values with KNN:"
   ]
  },
  {
   "cell_type": "code",
   "execution_count": null,
   "id": "becoming-developer",
   "metadata": {},
   "outputs": [],
   "source": [
    "from sklearn.impute import KNNImputer"
   ]
  },
  {
   "cell_type": "code",
   "execution_count": null,
   "id": "unable-treat",
   "metadata": {},
   "outputs": [],
   "source": [
    "knn_imputer = KNNImputer(n_neighbors=5, weights=\"uniform\")\n",
    "\n",
    "df_knn = df_miss.copy()\n",
    "df_knn.iloc[:, :] = knn_imputer.fit_transform(df_knn)\n",
    "df_knn.isna().sum()"
   ]
  },
  {
   "cell_type": "markdown",
   "id": "greenhouse-restaurant",
   "metadata": {},
   "source": [
    "### Testing the datasets:"
   ]
  },
  {
   "cell_type": "code",
   "execution_count": null,
   "id": "partial-oriental",
   "metadata": {},
   "outputs": [],
   "source": [
    "from sklearn.linear_model import LogisticRegression\n",
    "from sklearn.model_selection import train_test_split"
   ]
  },
  {
   "cell_type": "code",
   "execution_count": null,
   "id": "floppy-heaven",
   "metadata": {},
   "outputs": [],
   "source": [
    "# mask = (df_miss[\"sepal length (cm)\"].isna()) | (df_miss[\"petal width (cm)\"].isna())\n",
    "# df_miss[mask]\n",
    "df_miss = df_miss.dropna()\n",
    "datasets = [df, df_miss, df_ii, df_knn, df_rf]\n",
    "dfnames = [\"original\", \"drop missing\", \"iterative imputed\", \"knn imputed\", \"Random Forests imputed\"]"
   ]
  },
  {
   "cell_type": "code",
   "execution_count": null,
   "id": "spectacular-mozambique",
   "metadata": {},
   "outputs": [],
   "source": [
    "logit = LogisticRegression(C = 0.9)\n",
    "for i in range(len(datasets)):\n",
    "    X_train, X_test, y_train, y_test = train_test_split(datasets[i].iloc[:, 0:4], datasets[i][\"species\"], \\\n",
    "                                                        test_size=0.3, random_state=41)\n",
    "    logit.fit(X_train, y_train)\n",
    "    print(f\"Scores for the {dfnames[i]} dataset are\")\n",
    "    print(\"Training: {:6.2f}%\".format(100*logit.score(X_train, y_train)))\n",
    "    print(\"Test: {:6.2f}%\".format(100*logit.score(X_test, y_test)))"
   ]
  },
  {
   "cell_type": "markdown",
   "id": "hired-architect",
   "metadata": {},
   "source": [
    "### Extra steps to impute categorical feature (with strings as values):"
   ]
  },
  {
   "cell_type": "code",
   "execution_count": null,
   "id": "hispanic-blank",
   "metadata": {},
   "outputs": [],
   "source": [
    "#converting categorical values (strings) to numeric either with OrdinalEncoder or one_hot_encoder\n",
    "from sklearn.preprocessing import OrdinalEncoder\n",
    "feature_OE = OrdinalEncoder( )\n",
    "\n",
    "#pull out the feature to be imputed\n",
    "feature_impute = df[\"target_feature\"]\n",
    "\n",
    "#get all the observed categories of the feature\n",
    "feture_impute_observed = feature_impute[feature_impute.notnull( )] \n",
    "  \n",
    "#reshape feature_impute_notnull to a 2D array\n",
    "reshape_vals = var_impute_notnull.values.reshape(-1, 1)\n",
    "\n",
    "#convert levels of the categorical feature to numbers\n",
    "encoded_vals = feature_OE.fit_transform(reshape_vals)\n",
    "\n",
    "#put the transformed values back to the dataset\n",
    "data.loc[feature_impute.notnull( ), \"target_feature\"] = np.squeeze(encoded_vals)"
   ]
  },
  {
   "cell_type": "code",
   "execution_count": null,
   "id": "developing-windows",
   "metadata": {},
   "outputs": [],
   "source": [
    "#imputation, and round imputed values to integers since categories are represented by integers\n",
    "ii_imputer = IterativeImputer(max_iter=10, random_state=11)\n",
    "df.iloc[:, :] = np.round(ii_imputer.fit_transform(df))"
   ]
  },
  {
   "cell_type": "code",
   "execution_count": null,
   "id": "individual-exercise",
   "metadata": {},
   "outputs": [],
   "source": [
    "#reverse the transformation\n",
    "levels = df[\"target_feature\"].values.reshape(-1, 1)\n",
    "df[\"target_feature\"] = feature_OE.inverse_transform(levels)"
   ]
  },
  {
   "cell_type": "markdown",
   "id": "catholic-meditation",
   "metadata": {},
   "source": [
    "### Questions? <br> More specifics of the functions used in the demo can be found from sklearn:\n",
    "<img src=\"friends_minion.png\" style=\"width: 300px;\"/>"
   ]
  },
  {
   "cell_type": "markdown",
   "id": "blocked-ceremony",
   "metadata": {},
   "source": [
    "### References:\n",
    "1. https://scikit-learn.org/stable/modules/impute.html#multivariate-feature-imputation\n",
    "2. https://learn.datacamp.com/courses/dealing-with-missing-data-in-python\n",
    "3. https://cran.r-project.org/web/packages/miceRanger/vignettes/miceAlgorithm.html"
   ]
  },
  {
   "cell_type": "code",
   "execution_count": null,
   "id": "middle-holmes",
   "metadata": {},
   "outputs": [],
   "source": []
  }
 ],
 "metadata": {
  "kernelspec": {
   "display_name": "Python 3",
   "language": "python",
   "name": "python3"
  },
  "language_info": {
   "codemirror_mode": {
    "name": "ipython",
    "version": 3
   },
   "file_extension": ".py",
   "mimetype": "text/x-python",
   "name": "python",
   "nbconvert_exporter": "python",
   "pygments_lexer": "ipython3",
   "version": "3.8.5"
  }
 },
 "nbformat": 4,
 "nbformat_minor": 5
}
