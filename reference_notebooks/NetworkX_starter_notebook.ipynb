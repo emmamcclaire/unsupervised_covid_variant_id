{
 "cells": [
  {
   "cell_type": "markdown",
   "metadata": {},
   "source": [
    "# NetworkX starter\n",
    "\n",
    "This notebook contains examples of creating and analyzing network graphs with the NetworkX package. The NetworkX package is typically imported as nx.\n",
    "\n",
    "There are 4 types of network graphs. \n",
    "\n",
    "1. **Undirected Graph** has only undirected edges. Create with nx.Graph()\n",
    "2. **Directed Graph** has at least one directed edge. Create with nx.DiGraph()\n",
    "3. **MultiGraph** is an undirected graph with multiple edges between the same nodes. Create with nx.MultiGraph()\n",
    "4. **Directed MultiGraph** is a directed graph with parallel edges. Create with nx.MultiDiGraph()\n"
   ]
  },
  {
   "cell_type": "code",
   "execution_count": 1,
   "metadata": {},
   "outputs": [],
   "source": [
    "import networkx as nx\n",
    "import pandas as pd\n",
    "import matplotlib.pyplot as plt"
   ]
  },
  {
   "cell_type": "markdown",
   "metadata": {},
   "source": [
    "## Build the network\n",
    "\n",
    "A network can be built by adding nodes and edges, one or several at a time. NetworkX can also take a list of tuples or a dictionary to create the graph. "
   ]
  },
  {
   "cell_type": "code",
   "execution_count": 2,
   "metadata": {},
   "outputs": [],
   "source": [
    "# start with two nodes that are connected\n",
    "G = nx.Graph([('Amy', 'Katie')],) \n",
    "G.add_node('Will')\n",
    "G.add_node('Patrick')\n",
    "# add a list of nodes\n",
    "G.add_nodes_from(['Yuwen', 'Grettel'])  \n",
    "\n",
    "# add the edges\n",
    "G.add_edge('Amy', 'Will')\n",
    "G.add_edge('Katie', 'Will')\n",
    "# can add a list of edges\n",
    "G.add_edges_from([('Amy', 'Aaron'), ('Katie', 'Aaron'), ('Will', 'Aaron'),('Patrick','Grettel'), \n",
    "                  ('Amy','Grettel'), ('Amy', 'Yuwen'), ('Patrick', 'Yuwen'), ('Amy','Patrick')])\n"
   ]
  },
  {
   "cell_type": "code",
   "execution_count": 3,
   "metadata": {},
   "outputs": [
    {
     "name": "stdout",
     "output_type": "stream",
     "text": [
      "NodeView(('Amy', 'Katie', 'Will', 'Patrick', 'Yuwen', 'Grettel', 'Aaron'))\n"
     ]
    }
   ],
   "source": [
    "# print the network nodes\n",
    "print(repr(G.nodes))"
   ]
  },
  {
   "cell_type": "code",
   "execution_count": 4,
   "metadata": {},
   "outputs": [
    {
     "name": "stdout",
     "output_type": "stream",
     "text": [
      "EdgeView([('Amy', 'Katie'), ('Amy', 'Will'), ('Amy', 'Aaron'), ('Amy', 'Grettel'), ('Amy', 'Yuwen'), ('Amy', 'Patrick'), ('Katie', 'Will'), ('Katie', 'Aaron'), ('Will', 'Aaron'), ('Patrick', 'Grettel'), ('Patrick', 'Yuwen')])\n"
     ]
    }
   ],
   "source": [
    "# print the network edge pairs\n",
    "print(repr(G.edges))"
   ]
  },
  {
   "cell_type": "code",
   "execution_count": 5,
   "metadata": {},
   "outputs": [
    {
     "data": {
      "text/plain": [
       "<networkx.classes.graph.Graph at 0x7fdc0741cca0>"
      ]
     },
     "execution_count": 5,
     "metadata": {},
     "output_type": "execute_result"
    }
   ],
   "source": [
    "# a python list of tuples can be passed to NetworkX graph functions\n",
    "ab_list = [('Amy', 'Katie'), ('Amy', 'Will'), ('Amy', 'Aaron'), ('Amy', 'Grettel'), \n",
    "           ('Amy', 'Yuwen'), ('Amy', 'Patrick'), ('Katie', 'Will'), ('Katie', 'Aaron'), \n",
    "           ('Will', 'Aaron'), ('Patrick', 'Grettel'), ('Patrick', 'Yuwen')]\n",
    "G2 = nx.Graph(ab_list)\n",
    "G2"
   ]
  },
  {
   "cell_type": "markdown",
   "metadata": {},
   "source": [
    "## Import the network data from a file\n",
    "\n",
    "Can read the network data from a file that has each row as an edge instance. Note how here the raw CSV is read and not changed to a pandas dataframe.  "
   ]
  },
  {
   "cell_type": "code",
   "execution_count": 6,
   "metadata": {},
   "outputs": [
    {
     "name": "stdout",
     "output_type": "stream",
     "text": [
      "['Amy', 'Katie', 'Will', 'Aaron', 'Grettel', 'Patrick', 'Yuwen']\n"
     ]
    }
   ],
   "source": [
    "import csv\n",
    "\n",
    "with open('ab_project_teams.csv') as infile:\n",
    "    csv_reader = csv.reader(infile)\n",
    "    G3= nx.Graph(csv_reader)\n",
    "    \n",
    "    \n",
    "# The CSV contents look like this:\n",
    "\n",
    "\"\"\"\n",
    "Amy,Katie\n",
    "Amy,Will\n",
    "Amy,Aaron\n",
    "Katie,Will\n",
    "Katie,Aaron\n",
    "Will,Aaron\n",
    "Amy,Grettel\n",
    "Amy,Patrick\n",
    "Patrick,Grettel\n",
    "Patrick,Yuwen\n",
    "Amy,Yuwen\n",
    "\"\"\"\n",
    "\n",
    "print(G3.nodes())"
   ]
  },
  {
   "cell_type": "markdown",
   "metadata": {},
   "source": [
    "A Pandas dataframe is a possible input into NetworkX. Here, the CSV file is read into a Pandas dataframe. Each row having an edge instance is called an edgelist. NetworkX has a specific function to read this edgelist. Additional arguments can be added to specify the network graph type to create. "
   ]
  },
  {
   "cell_type": "code",
   "execution_count": 7,
   "metadata": {},
   "outputs": [
    {
     "data": {
      "text/html": [
       "<div>\n",
       "<style scoped>\n",
       "    .dataframe tbody tr th:only-of-type {\n",
       "        vertical-align: middle;\n",
       "    }\n",
       "\n",
       "    .dataframe tbody tr th {\n",
       "        vertical-align: top;\n",
       "    }\n",
       "\n",
       "    .dataframe thead th {\n",
       "        text-align: right;\n",
       "    }\n",
       "</style>\n",
       "<table border=\"1\" class=\"dataframe\">\n",
       "  <thead>\n",
       "    <tr style=\"text-align: right;\">\n",
       "      <th></th>\n",
       "      <th>node_1</th>\n",
       "      <th>node_2</th>\n",
       "    </tr>\n",
       "  </thead>\n",
       "  <tbody>\n",
       "    <tr>\n",
       "      <th>0</th>\n",
       "      <td>Amy</td>\n",
       "      <td>Katie</td>\n",
       "    </tr>\n",
       "    <tr>\n",
       "      <th>1</th>\n",
       "      <td>Amy</td>\n",
       "      <td>Will</td>\n",
       "    </tr>\n",
       "    <tr>\n",
       "      <th>2</th>\n",
       "      <td>Amy</td>\n",
       "      <td>Aaron</td>\n",
       "    </tr>\n",
       "    <tr>\n",
       "      <th>3</th>\n",
       "      <td>Katie</td>\n",
       "      <td>Will</td>\n",
       "    </tr>\n",
       "    <tr>\n",
       "      <th>4</th>\n",
       "      <td>Katie</td>\n",
       "      <td>Aaron</td>\n",
       "    </tr>\n",
       "  </tbody>\n",
       "</table>\n",
       "</div>"
      ],
      "text/plain": [
       "  node_1 node_2\n",
       "0    Amy  Katie\n",
       "1    Amy   Will\n",
       "2    Amy  Aaron\n",
       "3  Katie   Will\n",
       "4  Katie  Aaron"
      ]
     },
     "execution_count": 7,
     "metadata": {},
     "output_type": "execute_result"
    }
   ],
   "source": [
    "edges = pd.read_csv('ab_teams_edges.csv')\n",
    "edges.head()\n"
   ]
  },
  {
   "cell_type": "code",
   "execution_count": 8,
   "metadata": {},
   "outputs": [
    {
     "data": {
      "text/plain": [
       "<networkx.classes.graph.Graph at 0x7ffe421d0460>"
      ]
     },
     "execution_count": 8,
     "metadata": {},
     "output_type": "execute_result"
    }
   ],
   "source": [
    "F = nx.from_pandas_edgelist(edges, source=\"node_1\", target=\"node_2\")\n",
    "F\n"
   ]
  },
  {
   "cell_type": "code",
   "execution_count": 9,
   "metadata": {},
   "outputs": [
    {
     "data": {
      "text/plain": [
       "NodeView(('Amy', 'Katie', 'Will', 'Aaron', 'Grettel', 'Patrick', 'Yuwen'))"
      ]
     },
     "execution_count": 9,
     "metadata": {},
     "output_type": "execute_result"
    }
   ],
   "source": [
    "F.nodes()"
   ]
  },
  {
   "cell_type": "code",
   "execution_count": 10,
   "metadata": {},
   "outputs": [
    {
     "data": {
      "text/plain": [
       "EdgeView([('Amy', 'Katie'), ('Amy', 'Will'), ('Amy', 'Aaron'), ('Amy', 'Grettel'), ('Amy', 'Patrick'), ('Amy', 'Yuwen'), ('Katie', 'Will'), ('Katie', 'Aaron'), ('Will', 'Aaron'), ('Grettel', 'Patrick'), ('Patrick', 'Yuwen')])"
      ]
     },
     "execution_count": 10,
     "metadata": {},
     "output_type": "execute_result"
    }
   ],
   "source": [
    "F.edges()"
   ]
  },
  {
   "cell_type": "markdown",
   "metadata": {},
   "source": [
    "## Visualize the network\n",
    "\n",
    "There are a variety of layout algorithms to display the network.  Sometimes the nodes overlap and it can be difficult to see the connections. Here are a few layout options for our small network example. The spring layout usually works best at preventing node overlap. The circular layout made it easy to see who is and is not connected. "
   ]
  },
  {
   "cell_type": "code",
   "execution_count": 11,
   "metadata": {},
   "outputs": [
    {
     "data": {
      "image/png": "[encoded data removed]",
      "text/plain": [
       "<Figure size 576x576 with 4 Axes>"
      ]
     },
     "metadata": {},
     "output_type": "display_data"
    }
   ],
   "source": [
    "plt.rcParams[\"figure.figsize\"] = (8,8)\n",
    "#plt.subplots_adjust(left=5, bottom=5, right=6, top=6, wspace=0, hspace=0)\n",
    "#\n",
    "_, plot = plt.subplots(2,2)\n",
    "subplots = plot.reshape(1,4)[0]\n",
    "\n",
    "\n",
    "layouts = (nx.random_layout, nx.circular_layout, nx.spring_layout, nx.spectral_layout)\n",
    "titles = (\"Random Layout\", \"Circular Layout\", \"Spring Layout\", \"Spectral Layout\")\n",
    "for plot, layout, title in zip(subplots, layouts, titles):\n",
    "    pos = layout(G)\n",
    "    nx.draw_networkx(G, pos=pos, ax=plot, with_labels=True, node_color='LightGray')\n",
    "    plot.set_title(title)\n",
    "    plt.tight_layout()\n",
    "plt.savefig('layout_types.svg')"
   ]
  },
  {
   "cell_type": "markdown",
   "metadata": {},
   "source": [
    "There are multiple options to export and import NetworkX graphs. Pickle is one option. The GraphML file option is recommended as the best for between NetworkX and Gephi. Gephi is a separate open source graph viz tool. Available at https://gephi.org along with instructions. "
   ]
  },
  {
   "cell_type": "code",
   "execution_count": 12,
   "metadata": {},
   "outputs": [],
   "source": [
    "# multiple options to export and import any NetworkX network\n",
    "# the GraphML file option is recommended as the best for between NetworkX and Gephi\n",
    "\n",
    "nx.write_graphml(G, 'ab_teams.graphml')\n"
   ]
  },
  {
   "cell_type": "code",
   "execution_count": 14,
   "metadata": {},
   "outputs": [],
   "source": [
    "# OR code like this will also export to GraphML file\n",
    "\n",
    "with open('ab_teams.graphml', 'wb') as out_file:\n",
    "    nx.write_graphml(G, out_file)"
   ]
  },
  {
   "cell_type": "markdown",
   "metadata": {},
   "source": [
    "## Analyze the network\n",
    "\n",
    "Here are several different metrics that describe the network"
   ]
  },
  {
   "cell_type": "markdown",
   "metadata": {},
   "source": [
    "### Network Size"
   ]
  },
  {
   "cell_type": "code",
   "execution_count": 18,
   "metadata": {},
   "outputs": [
    {
     "name": "stdout",
     "output_type": "stream",
     "text": [
      "This network has 7 nodes and 11 edges.\n"
     ]
    }
   ],
   "source": [
    "# The size of a network is either it’s node count or edge count, or both!\n",
    "\n",
    "# COUNT NODES\n",
    "len(G)\n",
    "#OR\n",
    "len(G.nodes())\n",
    "#OR\n",
    "nodes = nx.number_of_nodes(G)\n",
    "\n",
    "\n",
    "# COUNT EDGES\n",
    "len(G.edges())\n",
    "#OR\n",
    "edges = nx.number_of_edges(G)\n",
    "\n",
    "print(f\"This network has {nodes} nodes and {edges} edges.\")"
   ]
  },
  {
   "cell_type": "markdown",
   "metadata": {},
   "source": [
    "### Centrality Measures\n",
    "\n",
    "Centrality indicates which node(s) has the most effect on the others. There are many centrality measures. Here are the most common:\n",
    "\n",
    "1. **Degree Centrality** Important nodes have many connections\n",
    "2. **Betweenness Centrality** Important nodes connect other nodes\n",
    "3. **Closeness Centrality** Important nodes are close to other nodes\n",
    "4. **Eigenvector Centrality** Important nodes have many connections to other important nodes\n",
    "5. **Page Rank** Important nodes have many in-coming edges. A variant of the Eigenvector Centrality that is used to anlayze directed networks. \n",
    "\n"
   ]
  },
  {
   "cell_type": "code",
   "execution_count": 9,
   "metadata": {},
   "outputs": [
    {
     "data": {
      "text/plain": [
       "{'Amy': 1.0,\n",
       " 'Katie': 0.5,\n",
       " 'Will': 0.5,\n",
       " 'Patrick': 0.5,\n",
       " 'Yuwen': 0.3333333333333333,\n",
       " 'Grettel': 0.3333333333333333,\n",
       " 'Aaron': 0.5}"
      ]
     },
     "execution_count": 9,
     "metadata": {},
     "output_type": "execute_result"
    }
   ],
   "source": [
    "# degree\n",
    "dgr = nx.degree_centrality(G)\n",
    "dgr\n",
    "# returns a dictionary of each node and the node's degree centrality "
   ]
  },
  {
   "cell_type": "code",
   "execution_count": 10,
   "metadata": {},
   "outputs": [
    {
     "data": {
      "text/plain": [
       "{'Amy': 0.6333333333333333,\n",
       " 'Katie': 0.0,\n",
       " 'Will': 0.0,\n",
       " 'Patrick': 0.03333333333333333,\n",
       " 'Yuwen': 0.0,\n",
       " 'Grettel': 0.0,\n",
       " 'Aaron': 0.0}"
      ]
     },
     "execution_count": 10,
     "metadata": {},
     "output_type": "execute_result"
    }
   ],
   "source": [
    "# betweenness\n",
    "btw = nx.betweenness_centrality(G)\n",
    "btw"
   ]
  },
  {
   "cell_type": "code",
   "execution_count": 12,
   "metadata": {},
   "outputs": [
    {
     "data": {
      "text/plain": [
       "{'Amy': 1.0,\n",
       " 'Katie': 0.6666666666666666,\n",
       " 'Will': 0.6666666666666666,\n",
       " 'Patrick': 0.6666666666666666,\n",
       " 'Yuwen': 0.6,\n",
       " 'Grettel': 0.6,\n",
       " 'Aaron': 0.6666666666666666}"
      ]
     },
     "execution_count": 12,
     "metadata": {},
     "output_type": "execute_result"
    }
   ],
   "source": [
    "# closeness\n",
    "clo = nx.closeness_centrality(G)\n",
    "clo"
   ]
  },
  {
   "cell_type": "code",
   "execution_count": 13,
   "metadata": {},
   "outputs": [
    {
     "data": {
      "text/plain": [
       "{'Amy': 0.5701255210211554,\n",
       " 'Katie': 0.38733041070266955,\n",
       " 'Will': 0.38733041070266955,\n",
       " 'Patrick': 0.3102849314001847,\n",
       " 'Yuwen': 0.25357997797641946,\n",
       " 'Grettel': 0.25357997797641946,\n",
       " 'Aaron': 0.38733041070266955}"
      ]
     },
     "execution_count": 13,
     "metadata": {},
     "output_type": "execute_result"
    }
   ],
   "source": [
    "# eigenvector\n",
    "eig = nx.eigenvector_centrality(G)\n",
    "eig"
   ]
  },
  {
   "cell_type": "code",
   "execution_count": 14,
   "metadata": {},
   "outputs": [
    {
     "data": {
      "text/plain": [
       "{'Amy': 0.25917717362138704,\n",
       " 'Katie': 0.1341816504650471,\n",
       " 'Will': 0.1341816504650471,\n",
       " 'Patrick': 0.14169311129996892,\n",
       " 'Yuwen': 0.09829238184175122,\n",
       " 'Grettel': 0.09829238184175122,\n",
       " 'Aaron': 0.1341816504650471}"
      ]
     },
     "execution_count": 14,
     "metadata": {},
     "output_type": "execute_result"
    }
   ],
   "source": [
    "# page rank\n",
    "pgr = nx.pagerank(G)\n",
    "pgr"
   ]
  },
  {
   "cell_type": "markdown",
   "metadata": {},
   "source": [
    "### Neighborhoods"
   ]
  },
  {
   "cell_type": "markdown",
   "metadata": {},
   "source": [
    "In a large network that can't be visualized easily, you may wish to find who a node of interest is connected to. In other words, the node's neighbors."
   ]
  },
  {
   "cell_type": "code",
   "execution_count": 15,
   "metadata": {},
   "outputs": [
    {
     "data": {
      "text/plain": [
       "['Amy', 'Will', 'Aaron']"
      ]
     },
     "execution_count": 15,
     "metadata": {},
     "output_type": "execute_result"
    }
   ],
   "source": [
    "katie_neighbors = list(nx.all_neighbors(G, 'Katie'))\n",
    "katie_neighbors"
   ]
  },
  {
   "cell_type": "markdown",
   "metadata": {},
   "source": [
    "### Graph Density\n",
    "\n",
    "Graph density measures the fraction of existing edges out of all potentially possible edges. Denstiy is a number between 0 and 1, inclusive. Density of 0 means no edges. Density of 1 is a complete graph. \n"
   ]
  },
  {
   "cell_type": "code",
   "execution_count": 16,
   "metadata": {},
   "outputs": [
    {
     "data": {
      "text/plain": [
       "0.5238095238095238"
      ]
     },
     "execution_count": 16,
     "metadata": {},
     "output_type": "execute_result"
    }
   ],
   "source": [
    "nx.density(G)"
   ]
  },
  {
   "cell_type": "markdown",
   "metadata": {},
   "source": [
    "### Eccentricity\n",
    "\n",
    "Eccentricity is the maximum distance from a node to all other nodes in the network."
   ]
  },
  {
   "cell_type": "code",
   "execution_count": 17,
   "metadata": {},
   "outputs": [
    {
     "name": "stdout",
     "output_type": "stream",
     "text": [
      "{'Amy': 1, 'Katie': 2, 'Will': 2, 'Patrick': 2, 'Yuwen': 2, 'Grettel': 2, 'Aaron': 2}\n"
     ]
    }
   ],
   "source": [
    "ecc = nx.eccentricity(G)\n",
    "\n",
    "print(ecc)\n"
   ]
  },
  {
   "cell_type": "code",
   "execution_count": 18,
   "metadata": {},
   "outputs": [
    {
     "name": "stdout",
     "output_type": "stream",
     "text": [
      "2\n"
     ]
    }
   ],
   "source": [
    "# specific node\n",
    "print(ecc['Will']) "
   ]
  },
  {
   "cell_type": "markdown",
   "metadata": {},
   "source": [
    "### Average Path Length\n",
    "\n",
    "An average number of steps along the shortest paths for all possible pairs of network nodes.  This is a metric to understand connectivity in a network.  It can indicate the speed of information propagation in the network. "
   ]
  },
  {
   "cell_type": "code",
   "execution_count": 19,
   "metadata": {},
   "outputs": [
    {
     "data": {
      "text/plain": [
       "1.4761904761904763"
      ]
     },
     "execution_count": 19,
     "metadata": {},
     "output_type": "execute_result"
    }
   ],
   "source": [
    "nx.average_shortest_path_length(G)"
   ]
  },
  {
   "cell_type": "code",
   "execution_count": null,
   "metadata": {},
   "outputs": [],
   "source": []
  }
 ],
 "metadata": {
  "kernelspec": {
   "display_name": "Python 3",
   "language": "python",
   "name": "python3"
  },
  "language_info": {
   "codemirror_mode": {
    "name": "ipython",
    "version": 3
   },
   "file_extension": ".py",
   "mimetype": "text/x-python",
   "name": "python",
   "nbconvert_exporter": "python",
   "pygments_lexer": "ipython3",
   "version": "3.8.5"
  }
 },
 "nbformat": 4,
 "nbformat_minor": 5
}
